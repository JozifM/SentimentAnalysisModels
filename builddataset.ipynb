{
 "cells": [
  {
   "cell_type": "code",
   "execution_count": 1,
   "metadata": {},
   "outputs": [
    {
     "name": "stderr",
     "output_type": "stream",
     "text": [
      "2023-05-04 20:15:16.906092: I tensorflow/core/platform/cpu_feature_guard.cc:193] This TensorFlow binary is optimized with oneAPI Deep Neural Network Library (oneDNN) to use the following CPU instructions in performance-critical operations:  SSE4.1 SSE4.2 AVX AVX2 FMA\n",
      "To enable them in other operations, rebuild TensorFlow with the appropriate compiler flags.\n"
     ]
    }
   ],
   "source": [
    "import pandas as pd\n",
    "from sklearn.model_selection import train_test_split\n",
    "import matplotlib as plt\n",
    "\n",
    "import tensorflow as tf\n",
    "from sklearn.feature_extraction.text import TfidfVectorizer\n",
    "from nltk.corpus import stopwords\n",
    "from nltk.stem import PorterStemmer"
   ]
  },
  {
   "cell_type": "code",
   "execution_count": 2,
   "metadata": {},
   "outputs": [
    {
     "name": "stdout",
     "output_type": "stream",
     "text": [
      "        target          id                          date      flag  \\\n",
      "535627       0  2198050935  Tue Jun 16 15:32:26 PDT 2009  NO_QUERY   \n",
      "247538       0  1982497761  Sun May 31 11:19:43 PDT 2009  NO_QUERY   \n",
      "859163       4  1675967309  Fri May 01 20:45:40 PDT 2009  NO_QUERY   \n",
      "866699       4  1677657955  Sat May 02 03:16:32 PDT 2009  NO_QUERY   \n",
      "242867       0  1981412597  Sun May 31 09:05:56 PDT 2009  NO_QUERY   \n",
      "\n",
      "                  user                                               text  \n",
      "535627  ambitiouslexie                                      im still wet   \n",
      "247538     BabieLondon  Feeling a little depressed today  because of t...  \n",
      "859163        Mandazxo                                          PERFECT!   \n",
      "866699    shannonkiely  is on her way to the mini with Carla and Mark!!!   \n",
      "242867     heyitstanya     i wanna see @loveandreverie in virginia beach   \n"
     ]
    }
   ],
   "source": [
    "df = pd.read_csv('training.1600000.processed.noemoticon.csv', encoding = 'latin', engine ='c', header=None)\n",
    "df.columns=['target', 'id', 'date', 'flag', 'user', 'text']\n",
    "df = df.sample(n=1000)\n",
    "print(df.head())"
   ]
  },
  {
   "cell_type": "code",
   "execution_count": 3,
   "metadata": {},
   "outputs": [],
   "source": [
    "X = df['text']\n",
    "y = df['target']"
   ]
  },
  {
   "cell_type": "code",
   "execution_count": 4,
   "metadata": {},
   "outputs": [
    {
     "data": {
      "text/plain": [
       "<Axes: >"
      ]
     },
     "execution_count": 4,
     "metadata": {},
     "output_type": "execute_result"
    },
    {
     "data": {
      "image/png": "[encoded data removed]",
      "text/plain": [
       "<Figure size 640x480 with 1 Axes>"
      ]
     },
     "metadata": {},
     "output_type": "display_data"
    }
   ],
   "source": [
    "y.hist()"
   ]
  },
  {
   "cell_type": "code",
   "execution_count": 5,
   "metadata": {},
   "outputs": [],
   "source": [
    "stemmer = PorterStemmer()\n",
    "\n",
    "# Define a function to apply stemming to a list of words\n",
    "def stem_words(words):\n",
    "    return [stemmer.stem(word) for word in words.split()]"
   ]
  },
  {
   "cell_type": "code",
   "execution_count": 6,
   "metadata": {},
   "outputs": [
    {
     "data": {
      "text/plain": [
       "\"stop_words = set(stopwords.words('english'))\\ndef custom_tokenizer(text):\\n    tokens = word_tokenize(text)\\n    return [token for token in tokens if token.lower() not in stop_words]\""
      ]
     },
     "execution_count": 6,
     "metadata": {},
     "output_type": "execute_result"
    }
   ],
   "source": [
    "# Define a custom tokenizer function that removes stop words\n",
    "'''stop_words = set(stopwords.words('english'))\n",
    "def custom_tokenizer(text):\n",
    "    tokens = word_tokenize(text)\n",
    "    return [token for token in tokens if token.lower() not in stop_words]'''"
   ]
  },
  {
   "cell_type": "code",
   "execution_count": 7,
   "metadata": {},
   "outputs": [],
   "source": [
    "# Define the stop words to be removed\n",
    "stop_words = stopwords.words('english')\n",
    "\n",
    "# Create a TF-IDF vectorizer with stop words and a minimum document frequency threshold of 10\n",
    "vectorizer = TfidfVectorizer(stop_words=stop_words, min_df=10, tokenizer=stem_words)"
   ]
  },
  {
   "cell_type": "code",
   "execution_count": 8,
   "metadata": {},
   "outputs": [
    {
     "name": "stderr",
     "output_type": "stream",
     "text": [
      "/home/joe/anaconda3/envs/sentimentAnalysis/lib/python3.10/site-packages/sklearn/feature_extraction/text.py:528: UserWarning: The parameter 'token_pattern' will not be used since 'tokenizer' is not None'\n",
      "  warnings.warn(\n",
      "/home/joe/anaconda3/envs/sentimentAnalysis/lib/python3.10/site-packages/sklearn/feature_extraction/text.py:409: UserWarning: Your stop_words may be inconsistent with your preprocessing. Tokenizing the stop words generated tokens ['abov', 'ani', 'becaus', 'befor', 'doe', 'dure', 'ha', 'hi', \"it'\", 'onc', 'onli', 'ourselv', \"she'\", \"should'v\", 'themselv', 'thi', 'veri', 'wa', 'whi', \"you'r\", \"you'v\", 'yourselv'] not in stop_words.\n",
      "  warnings.warn(\n"
     ]
    }
   ],
   "source": [
    "# Fit the vectorizer to the text data\n",
    "vectorizer.fit(X)\n",
    "\n",
    "# Transform the text data into a TF-IDF matrix\n",
    "tfidf_matrix = vectorizer.transform(X)"
   ]
  },
  {
   "cell_type": "code",
   "execution_count": 9,
   "metadata": {},
   "outputs": [
    {
     "name": "stdout",
     "output_type": "stream",
     "text": [
      "(1000, 110)\n",
      "{'im': 43, 'still': 83, 'feel': 19, 'littl': 50, 'today': 89, 'play': 71, 'way': 102, 'wanna': 99, 'see': 77, 'get': 23, 'thi': 86, 'never': 62, 'got': 28, 'wa': 97, 'realli': 73, 'look': 53, \"it'\": 44, 'also': 4, 'go': 25, 'want': 100, 'miss': 58, 'ha': 31, \"i'll\": 40, 'keep': 45, 'twitter': 93, 'too.': 91, \"i'm\": 41, 'think': 87, 'gonna': 26, 'wait': 98, 'alway': 5, 'day': 15, 'love': 54, 'watch': 101, 'awesom': 7, '2': 2, 'final': 20, 'back': 8, 'sit': 79, 'well': 104, 'like': 49, 'alreadi': 3, 'follow': 22, 'veri': 96, 'tri': 92, 'one': 67, 'come': 14, 'befor': 10, 'need': 61, 'new': 63, \"can't\": 13, 'onli': 68, 'good': 27, 'sleep': 80, 'thank': 85, 'wish': 106, '-': 1, \"i'v\": 42, \"you'r\": 109, 'sorri': 81, 'let': 48, 'know': 46, 'give': 24, 'lol': 51, 'whi': 105, 'time': 88, 'much': 60, 'next': 64, 'make': 56, 'mayb': 57, 'last': 47, 'night': 65, 'work': 107, 'sad': 75, 'even': 18, 'tonight': 90, '&amp;': 0, 'bad': 9, 'phone': 70, 'oh': 66, 'head': 35, 'great': 29, 'happi': 33, 'u': 94, 'eat': 17, 'morn': 59, 'hey': 36, 'sinc': 78, 'put': 72, 'home': 38, 'haha': 32, 'dont': 16, 'hate': 34, 'peopl': 69, 'take': 84, 'hope': 39, 'big': 12, 'week': 103, 'say': 76, 'hi': 37, 'start': 82, 'ani': 6, 'long': 52, 'guy': 30, 'would': 108, 'better': 11, 'use': 95, 'right': 74, 'find': 21, 'made': 55}\n"
     ]
    }
   ],
   "source": [
    "# Print the shape of the matrix\n",
    "print(tfidf_matrix.shape)\n",
    "\n",
    "print(vectorizer.vocabulary_)"
   ]
  },
  {
   "cell_type": "code",
   "execution_count": 10,
   "metadata": {},
   "outputs": [
    {
     "name": "stdout",
     "output_type": "stream",
     "text": [
      "['&amp;' '-' '2' 'alreadi' 'also' 'alway' 'ani' 'awesom' 'back' 'bad'\n",
      " 'befor' 'better' 'big' \"can't\" 'come' 'day' 'dont' 'eat' 'even' 'feel'\n",
      " 'final' 'find' 'follow' 'get' 'give' 'go' 'gonna' 'good' 'got' 'great'\n",
      " 'guy' 'ha' 'haha' 'happi' 'hate' 'head' 'hey' 'hi' 'home' 'hope' \"i'll\"\n",
      " \"i'm\" \"i'v\" 'im' \"it'\" 'keep' 'know' 'last' 'let' 'like' 'littl' 'lol'\n",
      " 'long' 'look' 'love' 'made' 'make' 'mayb' 'miss' 'morn' 'much' 'need'\n",
      " 'never' 'new' 'next' 'night' 'oh' 'one' 'onli' 'peopl' 'phone' 'play'\n",
      " 'put' 'realli' 'right' 'sad' 'say' 'see' 'sinc' 'sit' 'sleep' 'sorri'\n",
      " 'start' 'still' 'take' 'thank' 'thi' 'think' 'time' 'today' 'tonight'\n",
      " 'too.' 'tri' 'twitter' 'u' 'use' 'veri' 'wa' 'wait' 'wanna' 'want'\n",
      " 'watch' 'way' 'week' 'well' 'whi' 'wish' 'work' 'would' \"you'r\"]\n"
     ]
    }
   ],
   "source": [
    "print(vectorizer.get_feature_names_out())"
   ]
  },
  {
   "cell_type": "code",
   "execution_count": 11,
   "metadata": {},
   "outputs": [],
   "source": [
    "# Optionally, you can convert the matrix to a pandas dataframe\n",
    "tfidf_df = pd.DataFrame(tfidf_matrix.toarray(), columns=vectorizer.get_feature_names_out())\n",
    "\n",
    "# Add the sentiment scores back into the dataframe\n",
    "tfidf_df[\"sentiment_score\"] = y\n",
    "\n",
    "# Save the dataframe to a new csv file\n",
    "tfidf_df.to_csv(\"tfidf_features.csv\", index=False)"
   ]
  }
 ],
 "metadata": {
  "kernelspec": {
   "display_name": "sentimentAnalysis",
   "language": "python",
   "name": "python3"
  },
  "language_info": {
   "codemirror_mode": {
    "name": "ipython",
    "version": 3
   },
   "file_extension": ".py",
   "mimetype": "text/x-python",
   "name": "python",
   "nbconvert_exporter": "python",
   "pygments_lexer": "ipython3",
   "version": "3.10.11"
  },
  "orig_nbformat": 4
 },
 "nbformat": 4,
 "nbformat_minor": 2
}
